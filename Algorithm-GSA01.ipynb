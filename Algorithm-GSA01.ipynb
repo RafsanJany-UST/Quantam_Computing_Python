{
 "cells": [
  {
   "cell_type": "code",
   "execution_count": 212,
   "metadata": {},
   "outputs": [],
   "source": [
    "import matplotlib.pyplot as plt\n",
    "import pennylane as qml\n",
    "import numpy as np\n",
    "\n",
    "NUM_QUBITS = 2\n",
    "dev = qml.device(\"default.qubit\", wires=NUM_QUBITS)\n",
    "wires = list(range(NUM_QUBITS))"
   ]
  },
  {
   "cell_type": "code",
   "execution_count": 213,
   "metadata": {},
   "outputs": [
    {
     "name": "stdout",
     "output_type": "stream",
     "text": [
      "[0, 1]\n"
     ]
    }
   ],
   "source": [
    "print(wires)"
   ]
  },
  {
   "cell_type": "code",
   "execution_count": 214,
   "metadata": {},
   "outputs": [],
   "source": [
    "def equal_superposition(wires):\n",
    "    for wire in wires:\n",
    "        qml.Hadamard(wires=wire)"
   ]
  },
  {
   "cell_type": "code",
   "execution_count": 215,
   "metadata": {},
   "outputs": [
    {
     "name": "stdout",
     "output_type": "stream",
     "text": [
      "Initial state: [1.+0.j 0.+0.j 0.+0.j 0.+0.j]\n",
      "After applying the Hadamard gates: [0.5+0.j 0.5+0.j 0.5+0.j 0.5+0.j]\n",
      "execution_results: [0.25 0.25 0.25 0.25]\n"
     ]
    }
   ],
   "source": [
    "@qml.qnode(dev)\n",
    "def circuit():\n",
    "    qml.Snapshot(\"Initial state\")\n",
    "    equal_superposition(wires)\n",
    "    qml.Snapshot(\"After applying the Hadamard gates\")\n",
    "    return qml.probs(wires=wires)  # Probability of finding a computational basis state on the wires\n",
    "\n",
    "results = qml.snapshots(circuit)()\n",
    "\n",
    "for k, result in results.items():\n",
    "    print(f\"{k}: {result}\")"
   ]
  },
  {
   "cell_type": "code",
   "execution_count": 216,
   "metadata": {},
   "outputs": [
    {
     "data": {
      "image/png": "[encoded data removed]",
      "text/plain": [
       "<Figure size 640x480 with 1 Axes>"
      ]
     },
     "metadata": {},
     "output_type": "display_data"
    }
   ],
   "source": [
    "y = np.real(results[\"After applying the Hadamard gates\"])\n",
    "bit_strings = [f\"{x:0{NUM_QUBITS}b}\" for x in range(len(y))]\n",
    "\n",
    "plt.bar(bit_strings, y, color = \"#70CEFF\")\n",
    "\n",
    "plt.xticks(rotation=\"vertical\")\n",
    "plt.xlabel(\"State label\")\n",
    "plt.ylabel(\"Probability Amplitude\")\n",
    "plt.title(\"States probabilities amplitudes\")\n",
    "plt.show()"
   ]
  },
  {
   "cell_type": "code",
   "execution_count": 217,
   "metadata": {},
   "outputs": [
    {
     "name": "stdout",
     "output_type": "stream",
     "text": [
      "Before querying the Oracle: [0.5+0.j 0.5+0.j 0.5+0.j 0.5+0.j]\n",
      "After querying the Oracle: [-0.5+0.j  0.5+0.j  0.5+0.j  0.5+0.j]\n",
      "execution_results: [0.25 0.25 0.25 0.25]\n"
     ]
    }
   ],
   "source": [
    "omega = np.zeros(NUM_QUBITS)\n",
    "\n",
    "def oracle(wires, omega):\n",
    "    qml.FlipSign(omega, wires=wires)\n",
    "\n",
    "@qml.qnode(dev)\n",
    "def circuit2():\n",
    "    equal_superposition(wires)\n",
    "    qml.Snapshot(\"Before querying the Oracle\")\n",
    "\n",
    "    oracle(wires, omega)\n",
    "    qml.Snapshot(\"After querying the Oracle\")\n",
    "\n",
    "    return qml.probs(wires=wires)\n",
    "\n",
    "results = qml.snapshots(circuit2)()\n",
    "\n",
    "for k, result in results.items():\n",
    "    print(f\"{k}: {result}\")"
   ]
  },
  {
   "cell_type": "code",
   "execution_count": 218,
   "metadata": {},
   "outputs": [],
   "source": [
    "def diffusion():\n",
    "    for wire in range(NUM_QUBITS):\n",
    "        qml.Hadamard(wires=wire)\n",
    "        qml.PauliX(wires=wire)\n",
    "    qml.ctrl(qml.PauliZ, range(NUM_QUBITS-1), control_values=np.ones(NUM_QUBITS-1))(wires=NUM_QUBITS-1)\n",
    "    for wire in range(NUM_QUBITS):    \n",
    "        qml.PauliX(wires=wire)\n",
    "        qml.Hadamard(wires=wire)"
   ]
  },
  {
   "cell_type": "code",
   "execution_count": 219,
   "metadata": {},
   "outputs": [
    {
     "name": "stdout",
     "output_type": "stream",
     "text": [
      "state 1: [0.5+0.j 0.5+0.j 0.5+0.j 0.5+0.j]\n",
      "state 2: [-0.5+0.j  0.5+0.j  0.5+0.j  0.5+0.j]\n",
      "state 3: [-1.+0.j  0.+0.j  0.+0.j  0.+0.j]\n",
      "execution_results: [-1.+0.j  0.+0.j  0.+0.j  0.+0.j]\n"
     ]
    }
   ],
   "source": [
    "@qml.qnode(dev)\n",
    "def test():\n",
    "    equal_superposition(wires)\n",
    "    qml.Snapshot(\"state 1\")\n",
    "    oracle(wires,omega)\n",
    "    qml.Snapshot(\"state 2\")\n",
    "    #qml.templates.GroverOperator(wires)\n",
    "    diffusion()\n",
    "    qml.Snapshot(\"state 3\")\n",
    "    return qml.state()\n",
    "\n",
    "results = qml.snapshots(test)()\n",
    "\n",
    "for k, result in results.items():\n",
    "    print(f\"{k}: {result}\")"
   ]
  },
  {
   "cell_type": "code",
   "execution_count": 220,
   "metadata": {},
   "outputs": [
    {
     "name": "stdout",
     "output_type": "stream",
     "text": [
      "[0.25 1.   0.25 0.25 1.   0.25 0.25 1.   0.25 0.25]\n"
     ]
    }
   ],
   "source": [
    "@qml.qnode(dev)\n",
    "def myGSA(Niter):\n",
    "    equal_superposition(wires)\n",
    "    for i in range(Niter):\n",
    "        oracle(wires,omega)\n",
    "        diffusion()\n",
    "    return qml.probs()\n",
    "\n",
    "\n",
    "result = np.array([])\n",
    "\n",
    "for i in range(10):\n",
    "    temp = myGSA(i)\n",
    "    result = np.append(result, temp[0])\n",
    "\n",
    "\n",
    "print(result)\n"
   ]
  }
 ],
 "metadata": {
  "kernelspec": {
   "display_name": "elec1020",
   "language": "python",
   "name": "python3"
  },
  "language_info": {
   "codemirror_mode": {
    "name": "ipython",
    "version": 3
   },
   "file_extension": ".py",
   "mimetype": "text/x-python",
   "name": "python",
   "nbconvert_exporter": "python",
   "pygments_lexer": "ipython3",
   "version": "3.10.12"
  }
 },
 "nbformat": 4,
 "nbformat_minor": 2
}

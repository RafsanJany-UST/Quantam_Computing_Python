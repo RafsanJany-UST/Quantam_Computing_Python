{
 "cells": [
  {
   "cell_type": "markdown",
   "id": "cf875ad9",
   "metadata": {},
   "source": [
    "# 1. [30pt] Implement the Quantum Teleportation Protocol "
   ]
  },
  {
   "cell_type": "code",
   "execution_count": 22,
   "id": "823a5d8d",
   "metadata": {},
   "outputs": [
    {
     "name": "stdout",
     "output_type": "stream",
     "text": [
      "Measurement probabilities of Bob's qubit:\n",
      "P(|0>) = 0.3333333333333333\n",
      "P(|1>) = 0.6666666666666665\n"
     ]
    }
   ],
   "source": [
    "import pennylane as qml\n",
    "import numpy as np\n",
    "\n",
    "dev = qml.device(\"default.qubit\", wires=3)\n",
    "\n",
    "def psi_preparing(alpha, beta):\n",
    "    norm = (abs(alpha)**2 + abs(beta)**2)**0.5\n",
    "    alpha, beta = alpha / norm, beta / norm\n",
    "    qml.QubitStateVector(np.array([alpha, beta]), wires=0)\n",
    "\n",
    "\n",
    "@qml.qnode(dev)\n",
    "def teleportation(alpha, beta):\n",
    "    psi_preparing(alpha, beta)\n",
    "    qml.Hadamard(wires=1)\n",
    "    qml.CNOT(wires=[1, 2])\n",
    "    qml.CNOT(wires=[0, 1])\n",
    "    qml.Hadamard(wires=0)\n",
    "    m0 = qml.measure(0)\n",
    "    m1 = qml.measure(1)\n",
    "    qml.cond(m1, qml.PauliX)(wires=2)\n",
    "    qml.cond(m0, qml.PauliZ)(wires=2)\n",
    "    return qml.probs(wires=[2])\n",
    "\n",
    "\n",
    "alpha = 1 / (3**0.5)\n",
    "beta = (2 / 3)**0.5\n",
    "\n",
    "probs = teleportation(alpha, beta)\n",
    "print(\"Measurement probabilities of Bob's qubit:\")\n",
    "print(\"P(|0>) =\", probs[0])\n",
    "print(\"P(|1>) =\", probs[1])\n"
   ]
  },
  {
   "cell_type": "markdown",
   "id": "5c3ec0d7",
   "metadata": {},
   "source": [
    "# 2. [30pt] Violate the CHSH inequality using VQE"
   ]
  },
  {
   "cell_type": "code",
   "execution_count": 27,
   "id": "c603c4fc",
   "metadata": {},
   "outputs": [
    {
     "name": "stdout",
     "output_type": "stream",
     "text": [
      "Step 0: CHSH = 2.405864903166582\n",
      "Step 10: CHSH = 2.8284270253416675\n",
      "Step 20: CHSH = 2.8284271247461836\n",
      "Step 30: CHSH = 2.828427124746189\n",
      "Step 40: CHSH = 2.82842712474619\n",
      "Step 50: CHSH = 2.8284271247461903\n",
      "Step 60: CHSH = 2.8284271247461903\n",
      "Step 70: CHSH = 2.8284271247461903\n",
      "Step 80: CHSH = 2.8284271247461903\n",
      "Step 90: CHSH = 2.8284271247461903\n",
      "Final CHSH value: 2.8284271247461903\n",
      "Optimized params: [ 0.39270092  0.          1.96349725  0.          1.17809908  0.\n",
      " -0.39269725  0.        ]\n"
     ]
    }
   ],
   "source": [
    "import pennylane as qml\n",
    "from pennylane import numpy as np\n",
    "\n",
    "dev = qml.device(\"default.qubit\", wires=2)\n",
    "\n",
    "def bell_state():\n",
    "    qml.Hadamard(wires=0)\n",
    "    qml.CNOT(wires=[0, 1])\n",
    "\n",
    "def measure(theta, phi, wire):\n",
    "    qml.RY(theta, wires=wire)\n",
    "    qml.RZ(phi, wires=wire)\n",
    "\n",
    "@qml.qnode(dev, interface=\"autograd\")\n",
    "def E_a0b0(params):\n",
    "    theta_a0, phi_a0, _, _, theta_b0, phi_b0, _, _ = params\n",
    "    bell_state()\n",
    "    measure(theta_a0, phi_a0, 0)\n",
    "    measure(theta_b0, phi_b0, 1)\n",
    "    return qml.expval(qml.PauliZ(0) @ qml.PauliZ(1))\n",
    "\n",
    "@qml.qnode(dev, interface=\"autograd\")\n",
    "def E_a0b1(params):\n",
    "    theta_a0, phi_a0, _, _, _, _, theta_b1, phi_b1 = params\n",
    "    bell_state()\n",
    "    measure(theta_a0, phi_a0, 0)\n",
    "    measure(theta_b1, phi_b1, 1)\n",
    "    return qml.expval(qml.PauliZ(0) @ qml.PauliZ(1))\n",
    "\n",
    "@qml.qnode(dev, interface=\"autograd\")\n",
    "def E_a1b0(params):\n",
    "    _, _, theta_a1, phi_a1, theta_b0, phi_b0, _, _ = params\n",
    "    bell_state()\n",
    "    measure(theta_a1, phi_a1, 0)\n",
    "    measure(theta_b0, phi_b0, 1)\n",
    "    return qml.expval(qml.PauliZ(0) @ qml.PauliZ(1))\n",
    "\n",
    "@qml.qnode(dev, interface=\"autograd\")\n",
    "def E_a1b1(params):\n",
    "    _, _, theta_a1, phi_a1, _, _, theta_b1, phi_b1 = params\n",
    "    bell_state()\n",
    "    measure(theta_a1, phi_a1, 0)\n",
    "    measure(theta_b1, phi_b1, 1)\n",
    "    return qml.expval(qml.PauliZ(0) @ qml.PauliZ(1))\n",
    "\n",
    "def CHSH(params):\n",
    "    return E_a0b0(params) + E_a0b1(params) + E_a1b0(params) - E_a1b1(params)\n",
    "\n",
    "\n",
    "\n",
    "opt = qml.GradientDescentOptimizer(stepsize=0.4)\n",
    "\n",
    "pie = 3.1416\n",
    "\n",
    "params = np.array([0.0,0.0,pie/2, 0.0,pie/4, 0.0,pie /4,0.0], requires_grad=True)\n",
    "\n",
    "for i in range(100):\n",
    "    params, prev_cost = opt.step_and_cost(lambda x: -CHSH(x), params)\n",
    "    val = CHSH(params)\n",
    "    if i % 10 == 0:\n",
    "        print(f\"Step {i}: CHSH = {val}\")\n",
    "    if np.abs(val - prev_cost) < 1e-4:\n",
    "        print(f\"Converged at step {i}\")\n",
    "        break\n",
    "\n",
    "print(\"Final CHSH value:\", val)\n",
    "print(\"Optimized params:\", params)\n",
    "\n"
   ]
  },
  {
   "cell_type": "code",
   "execution_count": 28,
   "id": "b8265a16",
   "metadata": {},
   "outputs": [
    {
     "name": "stdout",
     "output_type": "stream",
     "text": [
      "2.8284271247461903\n"
     ]
    }
   ],
   "source": [
    "# If we check\n",
    "print(2*(2**0.5))\n"
   ]
  },
  {
   "cell_type": "markdown",
   "id": "6c551beb",
   "metadata": {},
   "source": [
    "# 3. [40pt]  Generating arbitrary quantum superposition states "
   ]
  },
  {
   "cell_type": "code",
   "execution_count": null,
   "id": "c2366c23",
   "metadata": {},
   "outputs": [
    {
     "name": "stdout",
     "output_type": "stream",
     "text": [
      "N = 5 -> using 3 qubits\n",
      "(|000>): amplitude tends to 0.039999999999999994\n",
      "(|001>): amplitude tends to 0.039999999999999994\n",
      "(|010>): amplitude tends to 0.039999999999999994\n",
      "(|011>): amplitude tends to 0.039999999999999994\n",
      "(|100>): amplitude tends to 0.039999999999999994\n",
      "N = 7 -> using 3 qubits\n",
      "(|000>): amplitude tends to 0.020408163265306114\n",
      "(|001>): amplitude tends to 0.020408163265306114\n",
      "(|010>): amplitude tends to 0.020408163265306114\n",
      "(|011>): amplitude tends to 0.020408163265306114\n",
      "(|100>): amplitude tends to 0.020408163265306114\n",
      "(|101>): amplitude tends to 0.020408163265306114\n",
      "(|110>): amplitude tends to 0.020408163265306114\n",
      "N = 31 -> using 5 qubits\n",
      "(|00000>): amplitude tends to 0.0010405827263267424\n",
      "(|00001>): amplitude tends to 0.0010405827263267424\n",
      "(|00010>): amplitude tends to 0.0010405827263267424\n",
      "(|00011>): amplitude tends to 0.0010405827263267424\n",
      "(|00100>): amplitude tends to 0.0010405827263267424\n",
      "(|00101>): amplitude tends to 0.0010405827263267424\n",
      "(|00110>): amplitude tends to 0.0010405827263267424\n",
      "(|00111>): amplitude tends to 0.0010405827263267424\n",
      "(|01000>): amplitude tends to 0.0010405827263267424\n",
      "(|01001>): amplitude tends to 0.0010405827263267424\n",
      "(|01010>): amplitude tends to 0.0010405827263267424\n",
      "(|01011>): amplitude tends to 0.0010405827263267424\n",
      "(|01100>): amplitude tends to 0.0010405827263267424\n",
      "(|01101>): amplitude tends to 0.0010405827263267424\n",
      "(|01110>): amplitude tends to 0.0010405827263267424\n",
      "(|01111>): amplitude tends to 0.0010405827263267424\n",
      "(|10000>): amplitude tends to 0.0010405827263267424\n",
      "(|10001>): amplitude tends to 0.0010405827263267424\n",
      "(|10010>): amplitude tends to 0.0010405827263267424\n",
      "(|10011>): amplitude tends to 0.0010405827263267424\n",
      "(|10100>): amplitude tends to 0.0010405827263267424\n",
      "(|10101>): amplitude tends to 0.0010405827263267424\n",
      "(|10110>): amplitude tends to 0.0010405827263267424\n",
      "(|10111>): amplitude tends to 0.0010405827263267424\n",
      "(|11000>): amplitude tends to 0.0010405827263267424\n",
      "(|11001>): amplitude tends to 0.0010405827263267424\n",
      "(|11010>): amplitude tends to 0.0010405827263267424\n",
      "(|11011>): amplitude tends to 0.0010405827263267424\n",
      "(|11100>): amplitude tends to 0.0010405827263267424\n",
      "(|11101>): amplitude tends to 0.0010405827263267424\n",
      "(|11110>): amplitude tends to 0.0010405827263267424\n"
     ]
    }
   ],
   "source": [
    "import pennylane as qml\n",
    "from pennylane import numpy as np\n",
    "import math\n",
    "\n",
    "def create_superposition_N(N):\n",
    "    n = math.ceil(math.log2(N)) \n",
    "    dev = qml.device(\"default.qubit\", wires=n)\n",
    "\n",
    "    @qml.qnode(dev)\n",
    "    def circuit():\n",
    "        for i in range(n):\n",
    "            qml.Hadamard(wires=i)\n",
    "        return qml.probs(wires=range(n))\n",
    "\n",
    "    probs = circuit()\n",
    "    state_indices = list(range(2**n))\n",
    "\n",
    "    valid_probs = probs[:N]\n",
    "    total = np.sum(valid_probs)\n",
    "\n",
    "    normalized_probs = valid_probs / total\n",
    "\n",
    "    print(f\"N = {N} -> using {n} qubits\")\n",
    "    for i in range(N):\n",
    "        b = format(i, f\"0{n}b\")\n",
    "        print(f\"(|{b}>): amplitude tends to {normalized_probs[i]**2}\")\n",
    "        \n",
    "\n",
    "create_superposition_N(5)\n",
    "create_superposition_N(7)\n",
    "create_superposition_N(31)\n",
    "\n"
   ]
  }
 ],
 "metadata": {
  "kernelspec": {
   "display_name": "qc",
   "language": "python",
   "name": "python3"
  },
  "language_info": {
   "codemirror_mode": {
    "name": "ipython",
    "version": 3
   },
   "file_extension": ".py",
   "mimetype": "text/x-python",
   "name": "python",
   "nbconvert_exporter": "python",
   "pygments_lexer": "ipython3",
   "version": "3.9.6"
  }
 },
 "nbformat": 4,
 "nbformat_minor": 5
}

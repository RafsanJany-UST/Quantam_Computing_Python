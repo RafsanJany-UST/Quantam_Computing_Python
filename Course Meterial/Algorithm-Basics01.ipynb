{
 "cells": [
  {
   "cell_type": "code",
   "execution_count": 3,
   "metadata": {},
   "outputs": [],
   "source": [
    "import pennylane as qml\n",
    "import numpy as np\n",
    "import matplotlib.pyplot as plt"
   ]
  },
  {
   "cell_type": "code",
   "execution_count": 4,
   "metadata": {},
   "outputs": [
    {
     "name": "stdout",
     "output_type": "stream",
     "text": [
      "[0.70710678+0.j 0.70710678+0.j]\n",
      "(0.7071067811865475+0j)\n",
      "(0.7071067811865475+0j)\n"
     ]
    }
   ],
   "source": [
    "mydevice = qml.device(\"default.qubit\", wires=1)\n",
    "@qml.qnode(mydevice)\n",
    "def quantum_circuit():\n",
    "    qml.Hadamard(wires=0)\n",
    "    return qml.state()\n",
    "\n",
    "result = quantum_circuit()\n",
    "print(result)\n",
    "print(result[0])\n",
    "print(result[1])\n"
   ]
  },
  {
   "cell_type": "code",
   "execution_count": 5,
   "metadata": {},
   "outputs": [
    {
     "name": "stdout",
     "output_type": "stream",
     "text": [
      "-0.5000000000000002\n"
     ]
    }
   ],
   "source": [
    "mydevice3 = qml.device(\"default.qubit\", wires=3)\n",
    "@qml.qnode(mydevice3)\n",
    "def quantum_circuit3(x, y):\n",
    "    qml.RX(x, wires=0)\n",
    "    qml.RY(y, wires=1)\n",
    "    m0 = qml.measure(0)\n",
    "    m1 = qml.measure(1)\n",
    "    qml.cond(~m0 & m1 == 0, qml.X)(wires=2)\n",
    "    return qml.expval(qml.Z(2))\n",
    "\n",
    "result = quantum_circuit3(np.pi/2, np.pi/2)\n",
    "print(result)"
   ]
  },
  {
   "cell_type": "code",
   "execution_count": 6,
   "metadata": {},
   "outputs": [],
   "source": [
    "dev = qml.device(\"default.qubit\", wires=2)\n",
    "\n",
    "@qml.qnode(dev)\n",
    "def circuit1():\n",
    "    qml.PauliX(wires=0)\n",
    "    qml.Hadamard(wires=0)\n",
    "    qml.RX(np.pi/2, wires=0)\n",
    "    qml.RY(np.pi/4, wires=0)\n",
    "    qml.RZ(np.pi/8, wires=1)\n",
    "    qml.PhaseShift(np.pi, wires=1)\n",
    "    qml.PauliY(wires=1)\n",
    "    qml.PauliZ(wires=1)\n",
    "    return qml.state()\n"
   ]
  },
  {
   "cell_type": "code",
   "execution_count": 7,
   "metadata": {},
   "outputs": [
    {
     "ename": "ImportError",
     "evalue": "Module matplotlib is required for ``MPLDrawer`` class. You can install matplotlib via \n\n   pip install matplotlib",
     "output_type": "error",
     "traceback": [
      "\u001b[1;31m---------------------------------------------------------------------------\u001b[0m",
      "\u001b[1;31mImportError\u001b[0m                               Traceback (most recent call last)",
      "Cell \u001b[1;32mIn[7], line 1\u001b[0m\n\u001b[1;32m----> 1\u001b[0m \u001b[43mqml\u001b[49m\u001b[38;5;241;43m.\u001b[39;49m\u001b[43mdraw_mpl\u001b[49m\u001b[43m(\u001b[49m\u001b[43mcircuit1\u001b[49m\u001b[43m,\u001b[49m\u001b[43m \u001b[49m\u001b[43mdecimals\u001b[49m\u001b[43m \u001b[49m\u001b[38;5;241;43m=\u001b[39;49m\u001b[43m \u001b[49m\u001b[38;5;241;43m2\u001b[39;49m\u001b[43m,\u001b[49m\u001b[43m \u001b[49m\u001b[43mstyle\u001b[49m\u001b[43m \u001b[49m\u001b[38;5;241;43m=\u001b[39;49m\u001b[43m \u001b[49m\u001b[38;5;124;43m\"\u001b[39;49m\u001b[38;5;124;43mpennylane\u001b[39;49m\u001b[38;5;124;43m\"\u001b[39;49m\u001b[43m)\u001b[49m\u001b[43m(\u001b[49m\u001b[43m)\u001b[49m\n\u001b[0;32m      2\u001b[0m plt\u001b[38;5;241m.\u001b[39mshow()\n",
      "File \u001b[1;32mc:\\Users\\user\\miniconda3\\envs\\qc\\lib\\site-packages\\pennylane\\drawer\\draw.py:778\u001b[0m, in \u001b[0;36m_draw_mpl_qnode.<locals>.wrapper\u001b[1;34m(*args, **kwargs_qnode)\u001b[0m\n\u001b[0;32m    775\u001b[0m     \u001b[38;5;28;01mexcept\u001b[39;00m \u001b[38;5;167;01mTypeError\u001b[39;00m:\n\u001b[0;32m    776\u001b[0m         _wire_order \u001b[38;5;241m=\u001b[39m tape\u001b[38;5;241m.\u001b[39mwires\n\u001b[1;32m--> 778\u001b[0m \u001b[38;5;28;01mreturn\u001b[39;00m tape_mpl(\n\u001b[0;32m    779\u001b[0m     tape,\n\u001b[0;32m    780\u001b[0m     wire_order\u001b[38;5;241m=\u001b[39m_wire_order,\n\u001b[0;32m    781\u001b[0m     show_all_wires\u001b[38;5;241m=\u001b[39mshow_all_wires,\n\u001b[0;32m    782\u001b[0m     decimals\u001b[38;5;241m=\u001b[39mdecimals,\n\u001b[0;32m    783\u001b[0m     style\u001b[38;5;241m=\u001b[39mstyle,\n\u001b[0;32m    784\u001b[0m     fig\u001b[38;5;241m=\u001b[39mfig,\n\u001b[0;32m    785\u001b[0m     \u001b[38;5;241m*\u001b[39m\u001b[38;5;241m*\u001b[39mkwargs,\n\u001b[0;32m    786\u001b[0m )\n",
      "File \u001b[1;32mc:\\Users\\user\\miniconda3\\envs\\qc\\lib\\site-packages\\pennylane\\drawer\\tape_mpl.py:464\u001b[0m, in \u001b[0;36mtape_mpl\u001b[1;34m(tape, wire_order, show_all_wires, decimals, style, fig, **kwargs)\u001b[0m\n\u001b[0;32m    461\u001b[0m     _set_style(style)\n\u001b[0;32m    463\u001b[0m \u001b[38;5;28;01mtry\u001b[39;00m:\n\u001b[1;32m--> 464\u001b[0m     \u001b[38;5;28;01mreturn\u001b[39;00m _tape_mpl(\n\u001b[0;32m    465\u001b[0m         tape,\n\u001b[0;32m    466\u001b[0m         wire_order\u001b[38;5;241m=\u001b[39mwire_order,\n\u001b[0;32m    467\u001b[0m         show_all_wires\u001b[38;5;241m=\u001b[39mshow_all_wires,\n\u001b[0;32m    468\u001b[0m         decimals\u001b[38;5;241m=\u001b[39mdecimals,\n\u001b[0;32m    469\u001b[0m         fig\u001b[38;5;241m=\u001b[39mfig,\n\u001b[0;32m    470\u001b[0m         \u001b[38;5;241m*\u001b[39m\u001b[38;5;241m*\u001b[39mkwargs,\n\u001b[0;32m    471\u001b[0m     )\n\u001b[0;32m    472\u001b[0m \u001b[38;5;28;01mfinally\u001b[39;00m:\n\u001b[0;32m    473\u001b[0m     \u001b[38;5;28;01mif\u001b[39;00m update_style:\n\u001b[0;32m    474\u001b[0m         \u001b[38;5;66;03m# we don't want to mess with how it modifies whether the interface is interactive\u001b[39;00m\n\u001b[0;32m    475\u001b[0m         \u001b[38;5;66;03m# but we want to restore everything else\u001b[39;00m\n",
      "File \u001b[1;32mc:\\Users\\user\\miniconda3\\envs\\qc\\lib\\site-packages\\pennylane\\drawer\\tape_mpl.py:241\u001b[0m, in \u001b[0;36m_tape_mpl\u001b[1;34m(tape, wire_order, show_all_wires, decimals, fig, **kwargs)\u001b[0m\n\u001b[0;32m    237\u001b[0m n_wires \u001b[38;5;241m=\u001b[39m \u001b[38;5;28mlen\u001b[39m(wire_map)\n\u001b[0;32m    239\u001b[0m cwire_layers, cwire_wires \u001b[38;5;241m=\u001b[39m cwire_connections(layers \u001b[38;5;241m+\u001b[39m [tape\u001b[38;5;241m.\u001b[39mmeasurements], bit_map)\n\u001b[1;32m--> 241\u001b[0m drawer \u001b[38;5;241m=\u001b[39m \u001b[43mMPLDrawer\u001b[49m\u001b[43m(\u001b[49m\n\u001b[0;32m    242\u001b[0m \u001b[43m    \u001b[49m\u001b[43mn_layers\u001b[49m\u001b[38;5;241;43m=\u001b[39;49m\u001b[43mn_layers\u001b[49m\u001b[43m,\u001b[49m\n\u001b[0;32m    243\u001b[0m \u001b[43m    \u001b[49m\u001b[43mn_wires\u001b[49m\u001b[38;5;241;43m=\u001b[39;49m\u001b[43mn_wires\u001b[49m\u001b[43m,\u001b[49m\n\u001b[0;32m    244\u001b[0m \u001b[43m    \u001b[49m\u001b[43mc_wires\u001b[49m\u001b[38;5;241;43m=\u001b[39;49m\u001b[38;5;28;43mlen\u001b[39;49m\u001b[43m(\u001b[49m\u001b[43mbit_map\u001b[49m\u001b[43m)\u001b[49m\u001b[43m,\u001b[49m\n\u001b[0;32m    245\u001b[0m \u001b[43m    \u001b[49m\u001b[43mwire_options\u001b[49m\u001b[38;5;241;43m=\u001b[39;49m\u001b[43mwire_options\u001b[49m\u001b[43m,\u001b[49m\n\u001b[0;32m    246\u001b[0m \u001b[43m    \u001b[49m\u001b[43mfig\u001b[49m\u001b[38;5;241;43m=\u001b[39;49m\u001b[43mfig\u001b[49m\u001b[43m,\u001b[49m\n\u001b[0;32m    247\u001b[0m \u001b[43m\u001b[49m\u001b[43m)\u001b[49m\n\u001b[0;32m    249\u001b[0m config \u001b[38;5;241m=\u001b[39m _Config(\n\u001b[0;32m    250\u001b[0m     decimals\u001b[38;5;241m=\u001b[39mdecimals,\n\u001b[0;32m    251\u001b[0m     active_wire_notches\u001b[38;5;241m=\u001b[39mactive_wire_notches,\n\u001b[0;32m    252\u001b[0m     bit_map\u001b[38;5;241m=\u001b[39mbit_map,\n\u001b[0;32m    253\u001b[0m     terminal_layers\u001b[38;5;241m=\u001b[39m[cl[\u001b[38;5;241m-\u001b[39m\u001b[38;5;241m1\u001b[39m] \u001b[38;5;28;01mfor\u001b[39;00m cl \u001b[38;5;129;01min\u001b[39;00m cwire_layers],\n\u001b[0;32m    254\u001b[0m )\n\u001b[0;32m    256\u001b[0m \u001b[38;5;28;01mif\u001b[39;00m n_wires \u001b[38;5;241m==\u001b[39m \u001b[38;5;241m0\u001b[39m:\n",
      "File \u001b[1;32mc:\\Users\\user\\miniconda3\\envs\\qc\\lib\\site-packages\\pennylane\\drawer\\mpldrawer.py:260\u001b[0m, in \u001b[0;36mMPLDrawer.__init__\u001b[1;34m(self, n_layers, n_wires, c_wires, wire_options, figsize, fig)\u001b[0m\n\u001b[0;32m    258\u001b[0m \u001b[38;5;28;01mdef\u001b[39;00m\u001b[38;5;250m \u001b[39m\u001b[38;5;21m__init__\u001b[39m(\u001b[38;5;28mself\u001b[39m, n_layers, n_wires, c_wires\u001b[38;5;241m=\u001b[39m\u001b[38;5;241m0\u001b[39m, wire_options\u001b[38;5;241m=\u001b[39m\u001b[38;5;28;01mNone\u001b[39;00m, figsize\u001b[38;5;241m=\u001b[39m\u001b[38;5;28;01mNone\u001b[39;00m, fig\u001b[38;5;241m=\u001b[39m\u001b[38;5;28;01mNone\u001b[39;00m):\n\u001b[0;32m    259\u001b[0m     \u001b[38;5;28;01mif\u001b[39;00m \u001b[38;5;129;01mnot\u001b[39;00m has_mpl:  \u001b[38;5;66;03m# pragma: no cover\u001b[39;00m\n\u001b[1;32m--> 260\u001b[0m         \u001b[38;5;28;01mraise\u001b[39;00m \u001b[38;5;167;01mImportError\u001b[39;00m(\n\u001b[0;32m    261\u001b[0m             \u001b[38;5;124m\"\u001b[39m\u001b[38;5;124mModule matplotlib is required for ``MPLDrawer`` class. \u001b[39m\u001b[38;5;124m\"\u001b[39m\n\u001b[0;32m    262\u001b[0m             \u001b[38;5;124m\"\u001b[39m\u001b[38;5;124mYou can install matplotlib via \u001b[39m\u001b[38;5;130;01m\\n\u001b[39;00m\u001b[38;5;130;01m\\n\u001b[39;00m\u001b[38;5;124m   pip install matplotlib\u001b[39m\u001b[38;5;124m\"\u001b[39m\n\u001b[0;32m    263\u001b[0m         )\n\u001b[0;32m    265\u001b[0m     \u001b[38;5;28mself\u001b[39m\u001b[38;5;241m.\u001b[39mn_layers \u001b[38;5;241m=\u001b[39m n_layers\n\u001b[0;32m    266\u001b[0m     \u001b[38;5;28mself\u001b[39m\u001b[38;5;241m.\u001b[39mn_wires \u001b[38;5;241m=\u001b[39m n_wires\n",
      "\u001b[1;31mImportError\u001b[0m: Module matplotlib is required for ``MPLDrawer`` class. You can install matplotlib via \n\n   pip install matplotlib"
     ]
    }
   ],
   "source": [
    "qml.draw_mpl(circuit1, decimals = 2, style = \"pennylane\")()\n",
    "plt.show()"
   ]
  },
  {
   "cell_type": "code",
   "execution_count": 6,
   "metadata": {},
   "outputs": [
    {
     "data": {
      "text/plain": [
       "tensor([ 0.        +0.j        ,  0.51327997-0.76817776j,\n",
       "         0.        +0.j        , -0.21260752+0.31818965j], requires_grad=True)"
      ]
     },
     "execution_count": 6,
     "metadata": {},
     "output_type": "execute_result"
    }
   ],
   "source": [
    "circuit1()"
   ]
  },
  {
   "cell_type": "code",
   "execution_count": 7,
   "metadata": {},
   "outputs": [
    {
     "name": "stdout",
     "output_type": "stream",
     "text": [
      "before gate operations: [1.+0.j 0.+0.j 0.+0.j 0.+0.j]\n",
      "after PauliX(0): [0.+0.j 0.+0.j 1.+0.j 0.+0.j]\n",
      "after Hadamard(0): [ 0.70710678+0.j  0.        +0.j -0.70710678+0.j  0.        +0.j]\n",
      "after RX(0): [ 0.5+0.5j  0. +0.j  -0.5-0.5j  0. +0.j ]\n",
      "after RY(0): [ 0.65328148+0.65328148j  0.        +0.j         -0.27059805-0.27059805j\n",
      "  0.        +0.j        ]\n",
      "after RZ(1): [ 0.76817776+0.51327997j  0.        +0.j         -0.31818965-0.21260752j\n",
      "  0.        +0.j        ]\n",
      "after PhaseShift(1): [ 0.76817776+0.51327997j -0.        +0.j         -0.31818965-0.21260752j\n",
      " -0.        +0.j        ]\n",
      "after PauliY(1): [ 0.        +0.j         -0.51327997+0.76817776j  0.        +0.j\n",
      "  0.21260752-0.31818965j]\n",
      "after PauliZ(1): [ 0.        +0.j          0.51327997-0.76817776j  0.        +0.j\n",
      " -0.21260752+0.31818965j]\n",
      "execution_results: [ 0.        +0.j          0.51327997-0.76817776j  0.        +0.j\n",
      " -0.21260752+0.31818965j]\n"
     ]
    }
   ],
   "source": [
    "@qml.qnode(dev)\n",
    "def circuit2():\n",
    "    qml.Snapshot(\"before gate operations\")\n",
    "    qml.PauliX(wires=0)\n",
    "    qml.Snapshot(\"after PauliX(0)\")\n",
    "    qml.Hadamard(wires=0)\n",
    "    qml.Snapshot(\"after Hadamard(0)\")\n",
    "    qml.RX(np.pi/2, wires=0)\n",
    "    qml.Snapshot(\"after RX(0)\")\n",
    "    qml.RY(np.pi/4, wires=0)\n",
    "    qml.Snapshot(\"after RY(0)\")\n",
    "    qml.RZ(np.pi/8, wires=1)\n",
    "    qml.Snapshot(\"after RZ(1)\")\n",
    "    qml.PhaseShift(np.pi, wires=1)\n",
    "    qml.Snapshot(\"after PhaseShift(1)\")\n",
    "    qml.PauliY(wires=1)\n",
    "    qml.Snapshot(\"after PauliY(1)\")\n",
    "    qml.PauliZ(wires=1)\n",
    "    qml.Snapshot(\"after PauliZ(1)\")\n",
    "    return qml.state()\n",
    "\n",
    "results = qml.snapshots(circuit2)()\n",
    "\n",
    "for k, result in results.items():\n",
    "    print(f\"{k}: {result}\")"
   ]
  },
  {
   "cell_type": "code",
   "execution_count": 8,
   "metadata": {},
   "outputs": [],
   "source": [
    "@qml.qnode(dev)\n",
    "def circuit3():\n",
    "    qml.PauliX(wires=0)\n",
    "    qml.Hadamard(wires=0)\n",
    "    qml.RX(np.pi/2, wires=0)\n",
    "    qml.RY(np.pi/4, wires=0)\n",
    "    qml.RZ(np.pi/8, wires=1)\n",
    "    qml.PhaseShift(np.pi, wires=1)\n",
    "    qml.PauliY(wires=1)\n",
    "    qml.PauliZ(wires=1)\n",
    "    return qml.probs()"
   ]
  },
  {
   "cell_type": "code",
   "execution_count": 9,
   "metadata": {},
   "outputs": [],
   "source": [
    "@qml.qnode(dev)\n",
    "def circuit4():\n",
    "    qml.PauliX(wires=0)\n",
    "    qml.Hadamard(wires=0)\n",
    "    qml.RX(np.pi/2, wires=0)\n",
    "    qml.RY(np.pi/4, wires=0)\n",
    "    qml.RZ(np.pi/8, wires=1)\n",
    "    qml.PhaseShift(np.pi, wires=1)\n",
    "    qml.PauliY(wires=1)\n",
    "    qml.PauliZ(wires=1)\n",
    "    return qml.expval(qml.Z(0))"
   ]
  },
  {
   "cell_type": "code",
   "execution_count": 10,
   "metadata": {},
   "outputs": [
    {
     "data": {
      "text/plain": [
       "tensor([ 0.        +0.j        ,  0.51327997-0.76817776j,\n",
       "         0.        +0.j        , -0.21260752+0.31818965j], requires_grad=True)"
      ]
     },
     "execution_count": 10,
     "metadata": {},
     "output_type": "execute_result"
    }
   ],
   "source": [
    "circuit1()"
   ]
  },
  {
   "cell_type": "code",
   "execution_count": 11,
   "metadata": {},
   "outputs": [
    {
     "data": {
      "text/plain": [
       "tensor([0.        , 0.85355339, 0.        , 0.14644661], requires_grad=True)"
      ]
     },
     "execution_count": 11,
     "metadata": {},
     "output_type": "execute_result"
    }
   ],
   "source": [
    "circuit3()"
   ]
  },
  {
   "cell_type": "code",
   "execution_count": 12,
   "metadata": {},
   "outputs": [
    {
     "data": {
      "text/plain": [
       "tensor(0.70710678, requires_grad=True)"
      ]
     },
     "execution_count": 12,
     "metadata": {},
     "output_type": "execute_result"
    }
   ],
   "source": [
    "circuit4()"
   ]
  },
  {
   "cell_type": "code",
   "execution_count": 13,
   "metadata": {},
   "outputs": [],
   "source": [
    "dev_2 = qml.device(\"default.qubit\", wires=2, shots=512)\n",
    "\n",
    "@qml.qnode(dev_2)\n",
    "def circuit5():\n",
    "    qml.PauliX(wires=0)\n",
    "    qml.Hadamard(wires=0)\n",
    "    qml.RX(np.pi/2, wires=0)\n",
    "    qml.RY(np.pi/4, wires=0)\n",
    "    qml.RZ(np.pi/8, wires=1)\n",
    "    qml.PhaseShift(np.pi, wires=1)\n",
    "    qml.PauliY(wires=1)\n",
    "    qml.PauliZ(wires=1)\n",
    "    return qml.counts(qml.Z(0))"
   ]
  },
  {
   "cell_type": "code",
   "execution_count": 14,
   "metadata": {},
   "outputs": [
    {
     "data": {
      "text/plain": [
       "{-1.0: 87, 1.0: 425}"
      ]
     },
     "execution_count": 14,
     "metadata": {},
     "output_type": "execute_result"
    }
   ],
   "source": [
    "circuit5()"
   ]
  },
  {
   "cell_type": "code",
   "execution_count": null,
   "metadata": {},
   "outputs": [],
   "source": []
  },
  {
   "cell_type": "code",
   "execution_count": null,
   "metadata": {},
   "outputs": [],
   "source": []
  },
  {
   "cell_type": "code",
   "execution_count": null,
   "metadata": {},
   "outputs": [],
   "source": []
  }
 ],
 "metadata": {
  "kernelspec": {
   "display_name": "qc",
   "language": "python",
   "name": "python3"
  },
  "language_info": {
   "codemirror_mode": {
    "name": "ipython",
    "version": 3
   },
   "file_extension": ".py",
   "mimetype": "text/x-python",
   "name": "python",
   "nbconvert_exporter": "python",
   "pygments_lexer": "ipython3",
   "version": "3.9.22"
  }
 },
 "nbformat": 4,
 "nbformat_minor": 2
}

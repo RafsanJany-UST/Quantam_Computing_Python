{
 "cells": [
  {
   "cell_type": "code",
   "execution_count": 1,
   "metadata": {},
   "outputs": [],
   "source": [
    "import pennylane as qml\n",
    "import numpy as np\n",
    "import matplotlib.pyplot as plt"
   ]
  },
  {
   "cell_type": "code",
   "execution_count": 2,
   "metadata": {},
   "outputs": [
    {
     "name": "stdout",
     "output_type": "stream",
     "text": [
      "[0.70710678+0.j 0.70710678+0.j]\n",
      "(0.7071067811865475+0j)\n",
      "(0.7071067811865475+0j)\n"
     ]
    }
   ],
   "source": [
    "mydevice = qml.device(\"default.qubit\", wires=1)\n",
    "@qml.qnode(mydevice)\n",
    "def quantum_circuit():\n",
    "    qml.Hadamard(wires=0)\n",
    "    return qml.state()\n",
    "\n",
    "result = quantum_circuit()\n",
    "print(result)\n",
    "print(result[0])\n",
    "print(result[1])\n"
   ]
  },
  {
   "cell_type": "code",
   "execution_count": 3,
   "metadata": {},
   "outputs": [
    {
     "name": "stdout",
     "output_type": "stream",
     "text": [
      "-0.5000000000000002\n"
     ]
    }
   ],
   "source": [
    "mydevice3 = qml.device(\"default.qubit\", wires=3)\n",
    "@qml.qnode(mydevice3)\n",
    "def quantum_circuit3(x, y):\n",
    "    qml.RX(x, wires=0)\n",
    "    qml.RY(y, wires=1)\n",
    "    m0 = qml.measure(0)\n",
    "    m1 = qml.measure(1)\n",
    "    qml.cond(~m0 & m1 == 0, qml.X)(wires=2)\n",
    "    return qml.expval(qml.Z(2))\n",
    "\n",
    "result = quantum_circuit3(np.pi/2, np.pi/2)\n",
    "print(result)"
   ]
  },
  {
   "cell_type": "code",
   "execution_count": 4,
   "metadata": {},
   "outputs": [],
   "source": [
    "dev = qml.device(\"default.qubit\", wires=2)\n",
    "\n",
    "@qml.qnode(dev)\n",
    "def circuit1():\n",
    "    qml.PauliX(wires=0)\n",
    "    qml.Hadamard(wires=0)\n",
    "    qml.RX(np.pi/2, wires=0)\n",
    "    qml.RY(np.pi/4, wires=0)\n",
    "    qml.RZ(np.pi/8, wires=1)\n",
    "    qml.PhaseShift(np.pi, wires=1)\n",
    "    qml.PauliY(wires=1)\n",
    "    qml.PauliZ(wires=1)\n",
    "    return qml.state()\n"
   ]
  },
  {
   "cell_type": "code",
   "execution_count": 5,
   "metadata": {},
   "outputs": [
    {
     "data": {
      "image/png": "[encoded data removed]",
      "text/plain": [
       "<Figure size 700x300 with 1 Axes>"
      ]
     },
     "metadata": {},
     "output_type": "display_data"
    }
   ],
   "source": [
    "qml.draw_mpl(circuit1, decimals = 2, style = \"pennylane\")()\n",
    "plt.show()"
   ]
  },
  {
   "cell_type": "code",
   "execution_count": 6,
   "metadata": {},
   "outputs": [
    {
     "data": {
      "text/plain": [
       "tensor([ 0.        +0.j        ,  0.51327997-0.76817776j,\n",
       "         0.        +0.j        , -0.21260752+0.31818965j], requires_grad=True)"
      ]
     },
     "execution_count": 6,
     "metadata": {},
     "output_type": "execute_result"
    }
   ],
   "source": [
    "circuit1()"
   ]
  },
  {
   "cell_type": "code",
   "execution_count": 7,
   "metadata": {},
   "outputs": [
    {
     "name": "stdout",
     "output_type": "stream",
     "text": [
      "before gate operations: [1.+0.j 0.+0.j 0.+0.j 0.+0.j]\n",
      "after PauliX(0): [0.+0.j 0.+0.j 1.+0.j 0.+0.j]\n",
      "after Hadamard(0): [ 0.70710678+0.j  0.        +0.j -0.70710678+0.j  0.        +0.j]\n",
      "after RX(0): [ 0.5+0.5j  0. +0.j  -0.5-0.5j  0. +0.j ]\n",
      "after RY(0): [ 0.65328148+0.65328148j  0.        +0.j         -0.27059805-0.27059805j\n",
      "  0.        +0.j        ]\n",
      "after RZ(1): [ 0.76817776+0.51327997j  0.        +0.j         -0.31818965-0.21260752j\n",
      "  0.        +0.j        ]\n",
      "after PhaseShift(1): [ 0.76817776+0.51327997j -0.        +0.j         -0.31818965-0.21260752j\n",
      " -0.        +0.j        ]\n",
      "after PauliY(1): [ 0.        +0.j         -0.51327997+0.76817776j  0.        +0.j\n",
      "  0.21260752-0.31818965j]\n",
      "after PauliZ(1): [ 0.        +0.j          0.51327997-0.76817776j  0.        +0.j\n",
      " -0.21260752+0.31818965j]\n",
      "execution_results: [ 0.        +0.j          0.51327997-0.76817776j  0.        +0.j\n",
      " -0.21260752+0.31818965j]\n"
     ]
    }
   ],
   "source": [
    "@qml.qnode(dev)\n",
    "def circuit2():\n",
    "    qml.Snapshot(\"before gate operations\")\n",
    "    qml.PauliX(wires=0)\n",
    "    qml.Snapshot(\"after PauliX(0)\")\n",
    "    qml.Hadamard(wires=0)\n",
    "    qml.Snapshot(\"after Hadamard(0)\")\n",
    "    qml.RX(np.pi/2, wires=0)\n",
    "    qml.Snapshot(\"after RX(0)\")\n",
    "    qml.RY(np.pi/4, wires=0)\n",
    "    qml.Snapshot(\"after RY(0)\")\n",
    "    qml.RZ(np.pi/8, wires=1)\n",
    "    qml.Snapshot(\"after RZ(1)\")\n",
    "    qml.PhaseShift(np.pi, wires=1)\n",
    "    qml.Snapshot(\"after PhaseShift(1)\")\n",
    "    qml.PauliY(wires=1)\n",
    "    qml.Snapshot(\"after PauliY(1)\")\n",
    "    qml.PauliZ(wires=1)\n",
    "    qml.Snapshot(\"after PauliZ(1)\")\n",
    "    return qml.state()\n",
    "\n",
    "results = qml.snapshots(circuit2)()\n",
    "\n",
    "for k, result in results.items():\n",
    "    print(f\"{k}: {result}\")"
   ]
  },
  {
   "cell_type": "code",
   "execution_count": 8,
   "metadata": {},
   "outputs": [],
   "source": [
    "@qml.qnode(dev)\n",
    "def circuit3():\n",
    "    qml.PauliX(wires=0)\n",
    "    qml.Hadamard(wires=0)\n",
    "    qml.RX(np.pi/2, wires=0)\n",
    "    qml.RY(np.pi/4, wires=0)\n",
    "    qml.RZ(np.pi/8, wires=1)\n",
    "    qml.PhaseShift(np.pi, wires=1)\n",
    "    qml.PauliY(wires=1)\n",
    "    qml.PauliZ(wires=1)\n",
    "    return qml.probs()"
   ]
  },
  {
   "cell_type": "code",
   "execution_count": 9,
   "metadata": {},
   "outputs": [],
   "source": [
    "@qml.qnode(dev)\n",
    "def circuit4():\n",
    "    qml.PauliX(wires=0)\n",
    "    qml.Hadamard(wires=0)\n",
    "    qml.RX(np.pi/2, wires=0)\n",
    "    qml.RY(np.pi/4, wires=0)\n",
    "    qml.RZ(np.pi/8, wires=1)\n",
    "    qml.PhaseShift(np.pi, wires=1)\n",
    "    qml.PauliY(wires=1)\n",
    "    qml.PauliZ(wires=1)\n",
    "    return qml.expval(qml.Z(0))"
   ]
  },
  {
   "cell_type": "code",
   "execution_count": 10,
   "metadata": {},
   "outputs": [
    {
     "data": {
      "text/plain": [
       "tensor([ 0.        +0.j        ,  0.51327997-0.76817776j,\n",
       "         0.        +0.j        , -0.21260752+0.31818965j], requires_grad=True)"
      ]
     },
     "execution_count": 10,
     "metadata": {},
     "output_type": "execute_result"
    }
   ],
   "source": [
    "circuit1()"
   ]
  },
  {
   "cell_type": "code",
   "execution_count": 11,
   "metadata": {},
   "outputs": [
    {
     "data": {
      "text/plain": [
       "tensor([0.        , 0.85355339, 0.        , 0.14644661], requires_grad=True)"
      ]
     },
     "execution_count": 11,
     "metadata": {},
     "output_type": "execute_result"
    }
   ],
   "source": [
    "circuit3()"
   ]
  },
  {
   "cell_type": "code",
   "execution_count": 12,
   "metadata": {},
   "outputs": [
    {
     "data": {
      "text/plain": [
       "tensor(0.70710678, requires_grad=True)"
      ]
     },
     "execution_count": 12,
     "metadata": {},
     "output_type": "execute_result"
    }
   ],
   "source": [
    "circuit4()"
   ]
  },
  {
   "cell_type": "code",
   "execution_count": 13,
   "metadata": {},
   "outputs": [],
   "source": [
    "dev_2 = qml.device(\"default.qubit\", wires=2, shots=512)\n",
    "\n",
    "@qml.qnode(dev_2)\n",
    "def circuit5():\n",
    "    qml.PauliX(wires=0)\n",
    "    qml.Hadamard(wires=0)\n",
    "    qml.RX(np.pi/2, wires=0)\n",
    "    qml.RY(np.pi/4, wires=0)\n",
    "    qml.RZ(np.pi/8, wires=1)\n",
    "    qml.PhaseShift(np.pi, wires=1)\n",
    "    qml.PauliY(wires=1)\n",
    "    qml.PauliZ(wires=1)\n",
    "    return qml.counts(qml.Z(0))"
   ]
  },
  {
   "cell_type": "code",
   "execution_count": 14,
   "metadata": {},
   "outputs": [
    {
     "data": {
      "text/plain": [
       "{-1.0: 87, 1.0: 425}"
      ]
     },
     "execution_count": 14,
     "metadata": {},
     "output_type": "execute_result"
    }
   ],
   "source": [
    "circuit5()"
   ]
  },
  {
   "cell_type": "code",
   "execution_count": null,
   "metadata": {},
   "outputs": [],
   "source": []
  },
  {
   "cell_type": "code",
   "execution_count": null,
   "metadata": {},
   "outputs": [],
   "source": []
  },
  {
   "cell_type": "code",
   "execution_count": null,
   "metadata": {},
   "outputs": [],
   "source": []
  }
 ],
 "metadata": {
  "kernelspec": {
   "display_name": "qc",
   "language": "python",
   "name": "python3"
  },
  "language_info": {
   "codemirror_mode": {
    "name": "ipython",
    "version": 3
   },
   "file_extension": ".py",
   "mimetype": "text/x-python",
   "name": "python",
   "nbconvert_exporter": "python",
   "pygments_lexer": "ipython3",
   "version": "3.9.6"
  }
 },
 "nbformat": 4,
 "nbformat_minor": 2
}

{
 "cells": [
  {
   "cell_type": "code",
   "execution_count": 8,
   "metadata": {},
   "outputs": [],
   "source": [
    "import pennylane as qml\n",
    "from pennylane import numpy as np\n",
    "import matplotlib.pyplot as plt\n",
    "\n",
    "dev = qml.device(\"default.qubit\", wires=2)"
   ]
  },
  {
   "cell_type": "code",
   "execution_count": 9,
   "metadata": {},
   "outputs": [],
   "source": [
    "@qml.qnode(dev, interface=\"autograd\")\n",
    "def C1(param):\n",
    "    qml.RY(param[0], wires=0)\n",
    "    qml.RY(param[1], wires=1)\n",
    "    qml.CNOT(wires=[0,1])\n",
    "    qml.RY(param[2], wires=0)\n",
    "    qml.RY(param[3], wires=1)\n",
    "    return qml.expval(qml.Identity(0)@qml.X(1))"
   ]
  },
  {
   "cell_type": "code",
   "execution_count": 10,
   "metadata": {},
   "outputs": [],
   "source": [
    "@qml.qnode(dev, interface=\"autograd\")\n",
    "def C2(param):\n",
    "    qml.RY(param[0], wires=0)\n",
    "    qml.RY(param[1], wires=1)\n",
    "    qml.CNOT(wires=[0,1])\n",
    "    qml.RY(param[2], wires=0)\n",
    "    qml.RY(param[3], wires=1)\n",
    "    return qml.expval(qml.X(0)@qml.X(1))"
   ]
  },
  {
   "cell_type": "code",
   "execution_count": 11,
   "metadata": {},
   "outputs": [],
   "source": [
    "@qml.qnode(dev, interface=\"autograd\")\n",
    "def C3(param):\n",
    "    qml.RY(param[0], wires=0)\n",
    "    qml.RY(param[1], wires=1)\n",
    "    qml.CNOT(wires=[0,1])\n",
    "    qml.RY(param[2], wires=0)\n",
    "    qml.RY(param[3], wires=1)\n",
    "    return qml.expval(qml.Y(0)@qml.Y(1))\n"
   ]
  },
  {
   "cell_type": "code",
   "execution_count": 12,
   "metadata": {},
   "outputs": [],
   "source": [
    "def cost_fn(param):\n",
    "    cost = 2 - C1(param) - 0.5*C2(param) - 0.5*C3(param)\n",
    "    return cost"
   ]
  },
  {
   "cell_type": "code",
   "execution_count": 13,
   "metadata": {},
   "outputs": [
    {
     "name": "stdout",
     "output_type": "stream",
     "text": [
      "Step = 0,  Energy = 1.61058166\n",
      "Step = 2,  Energy = 0.92919395\n",
      "Step = 4,  Energy = 0.54090589\n",
      "Step = 6,  Energy = 0.43152534\n",
      "Step = 8,  Energy = 0.40144038\n",
      "Step = 10,  Energy = 0.38991480\n",
      "Step = 12,  Energy = 0.38509493\n",
      "Step = 14,  Energy = 0.38315260\n",
      "Step = 16,  Energy = 0.38240480\n",
      "Step = 18,  Energy = 0.38212581\n",
      "Converged at Step = 19,  Energy = 0.38206210\n"
     ]
    }
   ],
   "source": [
    "opt = qml.GradientDescentOptimizer(stepsize=0.4)\n",
    "\n",
    "theta = np.array([0.5*np.pi, 0.5*np.pi, 0.5*np.pi, 0.5*np.pi], requires_grad=True)\n",
    "\n",
    "# store the values of the cost function\n",
    "energy = [cost_fn(theta)]\n",
    "\n",
    "# store the values of the circuit parameter\n",
    "angle = [theta]\n",
    "\n",
    "max_iterations = 100\n",
    "conv_tol = 1e-04\n",
    "\n",
    "for n in range(max_iterations):\n",
    "    theta, prev_energy = opt.step_and_cost(cost_fn, theta)\n",
    "\n",
    "    energy.append(cost_fn(theta))\n",
    "    angle.append(theta)\n",
    "\n",
    "    conv = np.abs(energy[-1] - prev_energy)\n",
    "\n",
    "    if n % 2 == 0:\n",
    "        print(f\"Step = {n},  Energy = {energy[-1]:.8f}\")\n",
    "        \n",
    "    if conv <= conv_tol:\n",
    "        print(f\"Converged at Step = {n},  Energy = {energy[-1]:.8f}\")\n",
    "        break\n",
    "\n",
    "\n"
   ]
  }
 ],
 "metadata": {
  "kernelspec": {
   "display_name": "elec1020",
   "language": "python",
   "name": "python3"
  },
  "language_info": {
   "codemirror_mode": {
    "name": "ipython",
    "version": 3
   },
   "file_extension": ".py",
   "mimetype": "text/x-python",
   "name": "python",
   "nbconvert_exporter": "python",
   "pygments_lexer": "ipython3",
   "version": "3.10.12"
  }
 },
 "nbformat": 4,
 "nbformat_minor": 2
}
